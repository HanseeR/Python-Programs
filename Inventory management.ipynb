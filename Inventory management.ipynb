{
 "cells": [
  {
   "cell_type": "code",
   "execution_count": 4,
   "id": "c8a9dac9-f0fa-4f45-b13e-542e99c2a9cb",
   "metadata": {},
   "outputs": [
    {
     "data": {
      "text/plain": [
       "{1001: {'Name': '5 start choc', 'Price': 10, 'Qn': 200},\n",
       " 1002: {'Name': 'Bar one', 'Price': 20, 'Qn': 100},\n",
       " 1003: {'Name': 'candy', 'Price': 2, 'Qn': 1000},\n",
       " 1004: {'Name': 'Choc cake', 'Price': 550, 'Qn': 5},\n",
       " 1005: {'Name': 'Blueberry cake', 'Price': 650, 'Qn': 5}}"
      ]
     },
     "execution_count": 4,
     "metadata": {},
     "output_type": "execute_result"
    }
   ],
   "source": [
    "record = {1001 : {'Name' : \"5 start choc\" , \"Price\" : 10 , \"Qn\" : 200} ,\n",
    "          1002 : {'Name' : \"Bar one\"      , \"Price\" : 20 , \"Qn\" : 100} , \n",
    "          1003 : {'Name' : \"candy\"        , \"Price\" : 2  , \"Qn\" : 1000},\n",
    "          1004 : {'Name' : \"Choc cake\"    , \"Price\" : 550 , \"Qn\" : 5} , \n",
    "          1005 : {'Name' : \"Blueberry cake\" , \"Price\" : 650 , \"Qn\" : 5}}\n",
    "# Dictionary is defined in a curly bracket \n",
    "\n",
    "record \n",
    "\n",
    "\n",
    "\n"
   ]
  },
  {
   "cell_type": "code",
   "execution_count": 22,
   "id": "407b942e-86e8-492e-8259-c42b5ced7565",
   "metadata": {},
   "outputs": [
    {
     "data": {
      "text/plain": [
       "'5 start choc'"
      ]
     },
     "execution_count": 22,
     "metadata": {},
     "output_type": "execute_result"
    }
   ],
   "source": [
    "record[1001]['Name']"
   ]
  },
  {
   "cell_type": "code",
   "execution_count": 26,
   "id": "9ce43ae4-0575-4d8d-b61f-d33d0e64ff04",
   "metadata": {},
   "outputs": [
    {
     "name": "stdout",
     "output_type": "stream",
     "text": [
      "Choc cake\n",
      "550\n",
      "5\n"
     ]
    }
   ],
   "source": [
    "print(record[1004] ['Name'])\n",
    "print(record[1004] ['Price'])\n",
    "print(record[1004] ['Qn'])"
   ]
  },
  {
   "cell_type": "code",
   "execution_count": 28,
   "id": "23e5356f-330a-4912-bad0-729da5dc45ce",
   "metadata": {},
   "outputs": [
    {
     "name": "stdout",
     "output_type": "stream",
     "text": [
      "--------------------MENU------------------\n",
      "\n",
      "1001 : 5 start choc | 10 | 10 | 200\n",
      "1002 : Bar one | 20 | 20 | 100\n",
      "1003 : candy | 2 | 2 | 1000\n",
      "1004 : Choc cake | 550 | 550 | 5\n",
      "1005 : Blueberry cake | 650 | 650 | 5\n",
      "------------------------------------------\n",
      "\n"
     ]
    },
    {
     "name": "stdin",
     "output_type": "stream",
     "text": [
      "Enter Product ID :  1001\n",
      "Enter Quantity :  2\n"
     ]
    },
    {
     "name": "stdout",
     "output_type": "stream",
     "text": [
      "-----------------Bill---------------------\n",
      "\n",
      "                 Bill                     \n",
      "\n",
      "Name        : 5 start choc\n",
      "Price{Rs}       : 10\n",
      "Quantity    : 2\n",
      "------------------------------------------\n",
      "\n",
      "Billing Amount       : 20 Rs\n",
      "------------------------------------------\n",
      "\n"
     ]
    }
   ],
   "source": [
    "print(\"--------------------MENU------------------\\n\")\n",
    "for key in record.keys():\n",
    "    print(key, \":\", record[key]['Name'], \"|\", record[key]['Price'], \"|\", record[key]['Price'], \"|\", record[key]['Qn'])\n",
    "print(\"------------------------------------------\\n\")\n",
    "\n",
    "ui_pr = int(input(\"Enter Product ID : \"))  # Added closing parenthesis\n",
    "ui_qn = int(input(\"Enter Quantity : \"))    # Added closing parenthesis\n",
    "\n",
    "print(\"-----------------Bill---------------------\\n\")\n",
    "print(\"                 Bill                     \\n\")\n",
    "\n",
    "print(\"Name        :\",record[ui_pr]['Name'])\n",
    "print(\"Price{Rs}       :\",record[ui_pr]['Price'])\n",
    "print(\"Quantity    :\",ui_qn)\n",
    "print(\"------------------------------------------\\n\")\n",
    "print(\"Billing Amount       :\",record[ui_pr][\"Price\"] * ui_qn , \"Rs\")\n",
    "print(\"------------------------------------------\\n\")\n",
    "\n",
    "js = json.dumps(record)\n",
    "\n",
    "fd = open(\"Records.json\", 'w')\n",
    "fd.write(js)\n",
    "fd.close()"
   ]
  },
  {
   "cell_type": "code",
   "execution_count": 6,
   "id": "e08ecd0c-c747-429a-b4a0-2a22320092d6",
   "metadata": {},
   "outputs": [
    {
     "data": {
      "text/plain": [
       "{1001: {'Name': '5 start choc', 'Price': 10, 'Qn': 200},\n",
       " 1002: {'Name': 'Bar one', 'Price': 20, 'Qn': 100},\n",
       " 1003: {'Name': 'candy', 'Price': 2, 'Qn': 1000},\n",
       " 1004: {'Name': 'Choc cake', 'Price': 550, 'Qn': 5},\n",
       " 1005: {'Name': 'Blueberry cake', 'Price': 650, 'Qn': 5}}"
      ]
     },
     "execution_count": 6,
     "metadata": {},
     "output_type": "execute_result"
    }
   ],
   "source": [
    "record"
   ]
  },
  {
   "cell_type": "code",
   "execution_count": 22,
   "id": "dfcad7b3-3316-490a-9c9f-79d650c4af10",
   "metadata": {},
   "outputs": [],
   "source": [
    "js = json.dumps(record)"
   ]
  },
  {
   "cell_type": "code",
   "execution_count": 26,
   "id": "8d5bb899-3950-4f95-aeb4-142154fe8c0a",
   "metadata": {},
   "outputs": [
    {
     "name": "stdout",
     "output_type": "stream",
     "text": [
      "['.anaconda', '.conda', '.condarc', '.continuum', '.dotnet', '.ipynb_checkpoints', '.ipython', '.jupyter', '.matplotlib', '.ms-ad', '.virtual_documents', '.vscode', 'anaconda3', 'anaconda_projects', 'AppData', 'Application Data', 'Contacts', 'Cookies', 'Data.txt', 'Data1.txt', 'demo.txt', 'Desktop', 'Documents', 'Downloads', 'Favorites', 'Links', 'Local Settings', 'Music', 'My Documents', 'NetHood', 'NTUSER.DAT', 'ntuser.dat.LOG1', 'ntuser.dat.LOG2', 'NTUSER.DAT{54260193-e8e2-11ee-b3df-e865389a671a}.TM.blf', 'NTUSER.DAT{54260193-e8e2-11ee-b3df-e865389a671a}.TMContainer00000000000000000001.regtrans-ms', 'NTUSER.DAT{54260193-e8e2-11ee-b3df-e865389a671a}.TMContainer00000000000000000002.regtrans-ms', 'ntuser.ini', 'OneDrive', 'Pictures', 'PrintHood', 'Recent', 'Records.json', 'Saved Games', 'Searches', 'SendTo', 'Start Menu', 'Templates', 'Untitled.ipynb', 'untitled.txt', 'Untitled1.ipynb', 'Untitled2.ipynb', 'Untitled3.ipynb', 'Untitled4.ipynb', 'Untitled5.ipynb', 'Videos']\n"
     ]
    }
   ],
   "source": [
    "import os\n",
    "\n",
    "fd = open(\"Records.json\", 'w')\n",
    "fd.write(js)\n",
    "fd.close()\n",
    "\n",
    "# List files in the current directory\n",
    "print(os.listdir(\".\"))"
   ]
  },
  {
   "cell_type": "code",
   "execution_count": null,
   "id": "3f6ef31c-e995-4345-8b3f-4ad4a84c1cb3",
   "metadata": {},
   "outputs": [],
   "source": []
  }
 ],
 "metadata": {
  "kernelspec": {
   "display_name": "Python 3 (ipykernel)",
   "language": "python",
   "name": "python3"
  },
  "language_info": {
   "codemirror_mode": {
    "name": "ipython",
    "version": 3
   },
   "file_extension": ".py",
   "mimetype": "text/x-python",
   "name": "python",
   "nbconvert_exporter": "python",
   "pygments_lexer": "ipython3",
   "version": "3.12.7"
  }
 },
 "nbformat": 4,
 "nbformat_minor": 5
}
